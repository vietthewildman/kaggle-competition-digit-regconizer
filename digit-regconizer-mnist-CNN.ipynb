{
  "cells": [
    {
      "cell_type": "markdown",
      "metadata": {
        "id": "j1ChTkfsF9KL"
      },
      "source": [
        "# INPUT"
      ]
    },
    {
      "cell_type": "code",
      "execution_count": null,
      "metadata": {
        "id": "kfRgXQsejJ_N"
      },
      "outputs": [],
      "source": [
        "!pip install streamlit\n",
        "!pip install opencv-python\n",
        "!pip install streamlit-drawable-canvas\n",
        "!pip install svgpathtools\n",
        "!pip install keras-utils\n",
        "!npm install -g localtunnel"
      ]
    },
    {
      "cell_type": "code",
      "execution_count": null,
      "metadata": {
        "id": "XT_oMamLIABs"
      },
      "outputs": [],
      "source": [
        "import os\n",
        "import numpy as np\n",
        "import pandas as pd\n",
        "from PIL import Image\n",
        "import cv2\n",
        "from datetime import datetime\n",
        "import matplotlib.pyplot as plt\n",
        "import torch\n",
        "from torch import nn # Neural network\n",
        "from torch import optim # Optimizer\n",
        "from torch.utils.data import Dataset, DataLoader # Dataset, Dataloader\n",
        "from torch.utils.tensorboard import SummaryWriter # Logger\n",
        "import torchvision\n",
        "from torchvision import transforms as T # Data augmentation\n",
        "from tensorflow.keras.utils import to_categorical\n",
        "import random\n",
        "from sklearn.preprocessing import StandardScaler, OneHotEncoder\n",
        "from sklearn import metrics\n",
        "from sklearn.model_selection import train_test_split\n",
        "#from torchvision.datasets import MNIST\n",
        "from keras.datasets import mnist\n",
        "#tensorflow\n",
        "import tensorflow as tf \n",
        "from tensorflow.keras.models import Sequential\n",
        "from tensorflow.keras.layers import Dense, Dropout, Activation, Flatten, MaxPooling2D, Conv2D\n",
        "\n",
        "\n",
        "np.random.seed(0)\n",
        "random.seed(0)\n",
        "torch.manual_seed(0)"
      ]
    },
    {
      "cell_type": "markdown",
      "metadata": {
        "id": "T9seejaELhEZ"
      },
      "source": [
        "**Getting** **Data**"
      ]
    },
    {
      "cell_type": "markdown",
      "source": [
        "The dataset will be loaded directl from the Keras for convenience. It contains 60k images for traning and 10k images for testing."
      ],
      "metadata": {
        "id": "dhEiuEjuwdTq"
      }
    },
    {
      "cell_type": "code",
      "execution_count": null,
      "metadata": {
        "colab": {
          "base_uri": "https://localhost:8080/"
        },
        "id": "GzNu3pgSLrjS",
        "outputId": "d1338d94-623c-46f5-9efa-35259589f6e2"
      },
      "outputs": [
        {
          "output_type": "stream",
          "name": "stdout",
          "text": [
            "Downloading data from https://storage.googleapis.com/tensorflow/tf-keras-datasets/mnist.npz\n",
            "11493376/11490434 [==============================] - 0s 0us/step\n",
            "11501568/11490434 [==============================] - 0s 0us/step\n",
            "(60000, 28, 28)\n",
            "(10000, 28, 28)\n"
          ]
        }
      ],
      "source": [
        "(X_train, y_train), (X_test, y_test) = mnist.load_data()\n",
        "print(X_train.shape)\n",
        "print(X_test.shape)"
      ]
    },
    {
      "cell_type": "markdown",
      "source": [
        "Let's explore the data by showing the 20th image and its respective label. Data shape is (28,28). Let's reshape it to (28,28,1) to fit in the model layers."
      ],
      "metadata": {
        "id": "YSZWRqocxGpL"
      }
    },
    {
      "cell_type": "code",
      "execution_count": null,
      "metadata": {
        "colab": {
          "base_uri": "https://localhost:8080/",
          "height": 283
        },
        "id": "vIcEOUdv-wX-",
        "outputId": "716d59a3-eef4-4a52-d896-32e0798fceb5"
      },
      "outputs": [
        {
          "output_type": "execute_result",
          "data": {
            "text/plain": [
              "<matplotlib.image.AxesImage at 0x7fef6c1c6a10>"
            ]
          },
          "metadata": {},
          "execution_count": 5
        },
        {
          "output_type": "display_data",
          "data": {
            "text/plain": [
              "<Figure size 432x288 with 1 Axes>"
            ],
            "image/png": "[encoded data removed]"
          },
          "metadata": {
            "needs_background": "light"
          }
        }
      ],
      "source": [
        "plt.imshow(X_train[19]) "
      ]
    },
    {
      "cell_type": "code",
      "execution_count": null,
      "metadata": {
        "colab": {
          "base_uri": "https://localhost:8080/"
        },
        "id": "YmcYW6bXekby",
        "outputId": "7941c93a-315d-4292-c78c-f207edc5af89"
      },
      "outputs": [
        {
          "output_type": "execute_result",
          "data": {
            "text/plain": [
              "9"
            ]
          },
          "metadata": {},
          "execution_count": 6
        }
      ],
      "source": [
        "y_train[19]"
      ]
    },
    {
      "cell_type": "code",
      "source": [
        "X_train[19].shape"
      ],
      "metadata": {
        "colab": {
          "base_uri": "https://localhost:8080/"
        },
        "id": "58QTO1LpxeIx",
        "outputId": "ab7bc410-88e6-40de-f32b-cb50cb79a99d"
      },
      "execution_count": null,
      "outputs": [
        {
          "output_type": "execute_result",
          "data": {
            "text/plain": [
              "(28, 28)"
            ]
          },
          "metadata": {},
          "execution_count": 8
        }
      ]
    },
    {
      "cell_type": "code",
      "execution_count": null,
      "metadata": {
        "colab": {
          "base_uri": "https://localhost:8080/"
        },
        "id": "xpXLlQyWROPJ",
        "outputId": "5f6a918f-5dc3-4156-82ee-77c9affcbf62"
      },
      "outputs": [
        {
          "output_type": "stream",
          "name": "stdout",
          "text": [
            "(60000, 28, 28, 1)\n",
            "(10000, 28, 28, 1)\n"
          ]
        }
      ],
      "source": [
        "X_train= X_train.reshape(60000,28,28,1)\n",
        "X_test= X_test.reshape(10000,28,28,1)\n",
        "print(X_train.shape)\n",
        "print(X_test.shape)"
      ]
    },
    {
      "cell_type": "code",
      "execution_count": null,
      "metadata": {
        "colab": {
          "base_uri": "https://localhost:8080/"
        },
        "id": "MJQ4cEyNWj_f",
        "outputId": "db646df9-074f-487d-be4e-3311073b0768"
      },
      "outputs": [
        {
          "output_type": "execute_result",
          "data": {
            "text/plain": [
              "<matplotlib.image.AxesImage at 0x7fdde2f48c90>"
            ]
          },
          "metadata": {},
          "execution_count": 7
        },
        {
          "output_type": "display_data",
          "data": {
            "text/plain": [
              "<Figure size 432x288 with 1 Axes>"
            ],
            "image/png": "[encoded data removed]"
          },
          "metadata": {
            "needs_background": "light"
          }
        }
      ],
      "source": [
        "x = X_train[0].reshape(28,28)\n",
        "plt.imshow(x)"
      ]
    },
    {
      "cell_type": "markdown",
      "source": [
        "We will apply one-hot encoding to the label y, convert it into a vector of 1x10"
      ],
      "metadata": {
        "id": "ssEIEKHyyCjC"
      }
    },
    {
      "cell_type": "code",
      "execution_count": null,
      "metadata": {
        "colab": {
          "base_uri": "https://localhost:8080/"
        },
        "id": "Y-4Ee4ebBjCy",
        "outputId": "aa57599d-6807-492e-8a5e-84e6afa68e94"
      },
      "outputs": [
        {
          "output_type": "execute_result",
          "data": {
            "text/plain": [
              "array([0., 0., 0., 0., 0., 1., 0., 0., 0., 0.], dtype=float32)"
            ]
          },
          "metadata": {},
          "execution_count": 9
        }
      ],
      "source": [
        "#One-hot encode cho y (vì y đang ở dạng số) chuyển về dạng vector (nên dùng hàm categorical của keras) \n",
        "y_train= to_categorical(y_train)\n",
        "y_test= to_categorical(y_test)\n",
        "y_train[0]"
      ]
    },
    {
      "cell_type": "code",
      "execution_count": null,
      "metadata": {
        "id": "2nIMPTwlMQnm"
      },
      "outputs": [],
      "source": [
        "#Normalize the data\n",
        "#The value of gray image varies from 0 to 255\n",
        "X_train = X_train / 255.0\n",
        "X_test = X_test / 255.0"
      ]
    },
    {
      "cell_type": "markdown",
      "metadata": {
        "id": "dF_51eE-GAcL"
      },
      "source": [
        "# MODEL"
      ]
    },
    {
      "cell_type": "markdown",
      "source": [
        "Our model includes 15 layers, using `adam` optimizer and `categorical_crossentropy` loss function. Let's create and take a look at the newly created model summary."
      ],
      "metadata": {
        "id": "HRpPG1PAySPL"
      }
    },
    {
      "cell_type": "code",
      "execution_count": null,
      "metadata": {
        "id": "hldpJLNMJxvY"
      },
      "outputs": [],
      "source": [
        "def create_model():\n",
        "  model = Sequential() #tạo chuỗi\n",
        "  #add model layers\n",
        "  #lớp layer convolution đầu tiên\n",
        "  model.add(Conv2D(64,kernel_size=(3,3),activation='relu',input_shape=(28,28,1))) #có 64 lớp kernel, kernel_size là matrix 3x3, relu là hàm để mô hình ko linear, input shape 28x28 1 chiều\n",
        "  model.add(MaxPooling2D(pool_size=(2,2))) #maxpooling=2,2 -> giảm shape -> (28-3+1)/2\n",
        "\n",
        "  #lớp layer convolution 2\n",
        "  model.add(Conv2D(64, kernel_size=(3,3),activation='relu',input_shape=(28,28,1))) #có 64 lớp kernel, kernel_size là matrix 3x3, relu là hàm để mô hình ko linear, input shape 28x28 1 chiều\n",
        "  model.add(MaxPooling2D(pool_size=(2,2)))\n",
        "\n",
        "  #lớp layer convolution 3\n",
        "  model.add(Conv2D(64, kernel_size=(3,3),activation='relu',input_shape=(28,28,1))) #có 64 lớp kernel, kernel_size là matrix 3x3, relu là hàm để mô hình ko linear, input shape 28x28 1 chiều\n",
        "  model.add(MaxPooling2D(pool_size=(2,2)))\n",
        "\n",
        "  #lớp fully connected\n",
        "  model.add(Flatten()) #chuyển thành vecto 1D\n",
        "  model.add(Dense(64)) #hidden layer có 64 giá trị khi flatten ra thì số nodes trong vecto sẽ connect với 64 nodes trong layer này\n",
        "  model.add(Activation('relu'))\n",
        "\n",
        "  #lớp fully connected 2\n",
        "  model.add(Flatten()) \n",
        "  model.add(Dense(32)) \n",
        "  model.add(Activation('relu'))\n",
        "\n",
        "  #lớp fully connected\n",
        "  model.add(Flatten()) \n",
        "  model.add(Dense(10)) #vì cuối cùng output có 10 lable nên lớp layer cuối có 10 nodes\n",
        "  model.add(Activation('softmax')) #hàm tính xác suất của 10 lable\n",
        "\n",
        "  model.compile(optimizer=\"Adam\", loss=\"categorical_crossentropy\", metrics=[\"accuracy\"])\n",
        "\n",
        "  # There are several loss functions implemented in Keras, but the most commonly used are \n",
        "  # mean_squared_error, categorical_crossentropy, and binary_crossentropy.\n",
        "\n",
        "  return model\n",
        "\n",
        "model = create_model()"
      ]
    },
    {
      "cell_type": "code",
      "execution_count": null,
      "metadata": {
        "colab": {
          "base_uri": "https://localhost:8080/"
        },
        "id": "5fKlg3RVGlMK",
        "outputId": "8e6d2420-64dd-404e-a80f-55fd85239426"
      },
      "outputs": [
        {
          "name": "stdout",
          "output_type": "stream",
          "text": [
            "Model: \"sequential\"\n",
            "_________________________________________________________________\n",
            " Layer (type)                Output Shape              Param #   \n",
            "=================================================================\n",
            " conv2d (Conv2D)             (None, 26, 26, 64)        640       \n",
            "                                                                 \n",
            " max_pooling2d (MaxPooling2D  (None, 13, 13, 64)       0         \n",
            " )                                                               \n",
            "                                                                 \n",
            " conv2d_1 (Conv2D)           (None, 11, 11, 64)        36928     \n",
            "                                                                 \n",
            " max_pooling2d_1 (MaxPooling  (None, 5, 5, 64)         0         \n",
            " 2D)                                                             \n",
            "                                                                 \n",
            " conv2d_2 (Conv2D)           (None, 3, 3, 64)          36928     \n",
            "                                                                 \n",
            " max_pooling2d_2 (MaxPooling  (None, 1, 1, 64)         0         \n",
            " 2D)                                                             \n",
            "                                                                 \n",
            " flatten (Flatten)           (None, 64)                0         \n",
            "                                                                 \n",
            " dense (Dense)               (None, 64)                4160      \n",
            "                                                                 \n",
            " activation (Activation)     (None, 64)                0         \n",
            "                                                                 \n",
            " flatten_1 (Flatten)         (None, 64)                0         \n",
            "                                                                 \n",
            " dense_1 (Dense)             (None, 32)                2080      \n",
            "                                                                 \n",
            " activation_1 (Activation)   (None, 32)                0         \n",
            "                                                                 \n",
            " flatten_2 (Flatten)         (None, 32)                0         \n",
            "                                                                 \n",
            " dense_2 (Dense)             (None, 10)                330       \n",
            "                                                                 \n",
            " activation_2 (Activation)   (None, 10)                0         \n",
            "                                                                 \n",
            "=================================================================\n",
            "Total params: 81,066\n",
            "Trainable params: 81,066\n",
            "Non-trainable params: 0\n",
            "_________________________________________________________________\n"
          ]
        }
      ],
      "source": [
        "model.summary()"
      ]
    },
    {
      "cell_type": "markdown",
      "metadata": {
        "id": "_QLshgsfGliK"
      },
      "source": [
        "# TRAIN"
      ]
    },
    {
      "cell_type": "markdown",
      "source": [
        "Let's train the model with 5 epochs. "
      ],
      "metadata": {
        "id": "1ZZlaOKDy0OY"
      }
    },
    {
      "cell_type": "code",
      "execution_count": null,
      "metadata": {
        "colab": {
          "base_uri": "https://localhost:8080/"
        },
        "id": "ZQihlLZ3HF8z",
        "outputId": "c10b6eb2-bf54-4dad-867d-2b0131b9857a"
      },
      "outputs": [
        {
          "name": "stdout",
          "output_type": "stream",
          "text": [
            "Epoch 1/5\n",
            "1875/1875 [==============================] - 106s 55ms/step - loss: 0.2181 - accuracy: 0.9326 - val_loss: 0.0964 - val_accuracy: 0.9699\n",
            "Epoch 2/5\n",
            "1875/1875 [==============================] - 94s 50ms/step - loss: 0.0738 - accuracy: 0.9773 - val_loss: 0.0847 - val_accuracy: 0.9735\n",
            "Epoch 3/5\n",
            "1875/1875 [==============================] - 88s 47ms/step - loss: 0.0544 - accuracy: 0.9831 - val_loss: 0.0611 - val_accuracy: 0.9820\n",
            "Epoch 4/5\n",
            "1875/1875 [==============================] - 94s 50ms/step - loss: 0.0431 - accuracy: 0.9866 - val_loss: 0.0578 - val_accuracy: 0.9849\n",
            "Epoch 5/5\n",
            "1875/1875 [==============================] - 92s 49ms/step - loss: 0.0351 - accuracy: 0.9893 - val_loss: 0.0494 - val_accuracy: 0.9857\n"
          ]
        },
        {
          "data": {
            "text/plain": [
              "<keras.callbacks.History at 0x7fe0714ef050>"
            ]
          },
          "execution_count": 26,
          "metadata": {},
          "output_type": "execute_result"
        }
      ],
      "source": [
        "# Train model \n",
        "model.fit(X_train, y_train, validation_data=(X_test, y_test), epochs=5)"
      ]
    },
    {
      "cell_type": "code",
      "execution_count": null,
      "metadata": {
        "colab": {
          "base_uri": "https://localhost:8080/"
        },
        "id": "HJk4OSylJcTr",
        "outputId": "9538aa54-fcb1-4dba-fced-9376ea830e59"
      },
      "outputs": [
        {
          "name": "stdout",
          "output_type": "stream",
          "text": [
            "313/313 [==============================] - 4s 13ms/step - loss: 0.0494 - accuracy: 0.9857\n",
            "1875/1875 [==============================] - 26s 14ms/step - loss: 0.0243 - accuracy: 0.9925\n"
          ]
        }
      ],
      "source": [
        "# Evaluate model\n",
        "test_loss, test_acr = model.evaluate(X_test, y_test)\n",
        "train_loss, train_acr = model.evaluate(X_train, y_train)"
      ]
    },
    {
      "cell_type": "markdown",
      "source": [
        "The result is displayed as a vector, with elements are the probabilities respective to its position."
      ],
      "metadata": {
        "id": "K6iVMseKy-ZB"
      }
    },
    {
      "cell_type": "code",
      "execution_count": null,
      "metadata": {
        "colab": {
          "base_uri": "https://localhost:8080/"
        },
        "id": "83qlmU14JzCz",
        "outputId": "9014a5f8-d042-400d-85c1-cc50b679cb11"
      },
      "outputs": [
        {
          "name": "stdout",
          "output_type": "stream",
          "text": [
            "[[1.3366381e-05 1.2538140e-08 1.4151653e-05 3.4632969e-05 1.1228250e-05\n",
            "  9.9918956e-01 1.2790387e-04 6.5447750e-07 5.2563879e-05 5.5601948e-04]]\n"
          ]
        }
      ],
      "source": [
        "# Explore a prediction for the 152th image\n",
        "predictions = model.predict(X_test[152].reshape(1,28,28,1))\n",
        "print(predictions)"
      ]
    },
    {
      "cell_type": "code",
      "execution_count": null,
      "metadata": {
        "colab": {
          "base_uri": "https://localhost:8080/"
        },
        "id": "WtW70s7tKDVq",
        "outputId": "124b447a-3262-44f0-cc0f-a01d2c9e06d1"
      },
      "outputs": [
        {
          "name": "stdout",
          "output_type": "stream",
          "text": [
            "[0. 0. 0. 0. 0. 0. 0. 1. 0. 0.]\n"
          ]
        }
      ],
      "source": [
        "print(y_test[0])"
      ]
    }
  ],
  "metadata": {
    "colab": {
      "collapsed_sections": [
        "j1ChTkfsF9KL",
        "dF_51eE-GAcL",
        "_QLshgsfGliK",
        "z9Q5TROHbReO",
        "X42R5cIRqRU8",
        "l9UASdHTwSmI"
      ],
      "name": "Copy of Final project.ipynb",
      "provenance": []
    },
    "kernelspec": {
      "display_name": "Python 3",
      "name": "python3"
    },
    "language_info": {
      "name": "python"
    }
  },
  "nbformat": 4,
  "nbformat_minor": 0
}