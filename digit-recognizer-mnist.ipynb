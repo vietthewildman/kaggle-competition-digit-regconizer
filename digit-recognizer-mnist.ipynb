{
  "cells": [
    {
      "cell_type": "markdown",
      "metadata": {
        "id": "j1ChTkfsF9KL"
      },
      "source": [
        "# INPUT"
      ]
    },
    {
      "cell_type": "code",
      "execution_count": 1,
      "metadata": {
        "colab": {
          "base_uri": "https://localhost:8080/",
          "height": 1000
        },
        "id": "kfRgXQsejJ_N",
        "outputId": "a31a5912-6915-4f5a-b9f9-258084de32ba"
      },
      "outputs": []
        }
      ],
      "source": [
        "!pip install streamlit\n",
        "!pip install opencv-python\n",
        "!pip install streamlit-drawable-canvas\n",
        "!pip install svgpathtools\n",
        "!pip install keras-utils\n",
        "!npm install -g localtunnel"
      ]
    },
    {
      "cell_type": "code",
      "execution_count": 2,
      "metadata": {
        "colab": {
          "base_uri": "https://localhost:8080/"
        },
        "id": "XT_oMamLIABs",
        "outputId": "1c84de27-8e56-48fd-9b90-84444892ecbd"
      },
      "outputs": [
        {
          "output_type": "execute_result",
          "data": {
            "text/plain": [
              "<torch._C.Generator at 0x7fefe71775f0>"
            ]
          },
          "metadata": {},
          "execution_count": 2
        }
      ],
      "source": [
        "import os\n",
        "import numpy as np\n",
        "import pandas as pd\n",
        "from PIL import Image\n",
        "import cv2\n",
        "from datetime import datetime\n",
        "import matplotlib.pyplot as plt\n",
        "import torch\n",
        "from torch import nn # Neural network\n",
        "from torch import optim # Optimizer\n",
        "from torch.utils.data import Dataset, DataLoader # Dataset, Dataloader\n",
        "from torch.utils.tensorboard import SummaryWriter # Logger\n",
        "import torchvision\n",
        "from torchvision import transforms as T # Data augmentation\n",
        "from tensorflow.keras.utils import to_categorical\n",
        "import random\n",
        "from sklearn.preprocessing import StandardScaler, OneHotEncoder\n",
        "from sklearn import metrics\n",
        "from sklearn.model_selection import train_test_split\n",
        "#from torchvision.datasets import MNIST\n",
        "from keras.datasets import mnist\n",
        "#tensorflow\n",
        "import tensorflow as tf \n",
        "from tensorflow.keras.models import Sequential\n",
        "from tensorflow.keras.layers import Dense, Dropout, Activation, Flatten, MaxPooling2D, Conv2D\n",
        "\n",
        "\n",
        "np.random.seed(0)\n",
        "random.seed(0)\n",
        "torch.manual_seed(0)"
      ]
    },
    {
      "cell_type": "markdown",
      "metadata": {
        "id": "T9seejaELhEZ"
      },
      "source": [
        "**Getting** **Data**"
      ]
    },
    {
      "cell_type": "markdown",
      "source": [
        "The dataset will be loaded directl from the Keras for convenience. It contains 60k images for traning and 10k images for testing."
      ],
      "metadata": {
        "id": "dhEiuEjuwdTq"
      }
    },
    {
      "cell_type": "code",
      "execution_count": 4,
      "metadata": {
        "colab": {
          "base_uri": "https://localhost:8080/"
        },
        "id": "GzNu3pgSLrjS",
        "outputId": "d1338d94-623c-46f5-9efa-35259589f6e2"
      },
      "outputs": [
        {
          "output_type": "stream",
          "name": "stdout",
          "text": [
            "Downloading data from https://storage.googleapis.com/tensorflow/tf-keras-datasets/mnist.npz\n",
            "11493376/11490434 [==============================] - 0s 0us/step\n",
            "11501568/11490434 [==============================] - 0s 0us/step\n",
            "(60000, 28, 28)\n",
            "(10000, 28, 28)\n"
          ]
        }
      ],
      "source": [
        "(X_train, y_train), (X_test, y_test) = mnist.load_data()\n",
        "print(X_train.shape)\n",
        "print(X_test.shape)"
      ]
    },
    {
      "cell_type": "markdown",
      "source": [
        "Let's explore the data by showing the 20th image and its respective label. Data shape is (28,28). Let's reshape it to (28,28,1) to fit in the model layers."
      ],
      "metadata": {
        "id": "YSZWRqocxGpL"
      }
    },
    {
      "cell_type": "code",
      "execution_count": 5,
      "metadata": {
        "colab": {
          "base_uri": "https://localhost:8080/",
          "height": 283
        },
        "id": "vIcEOUdv-wX-",
        "outputId": "716d59a3-eef4-4a52-d896-32e0798fceb5"
      },
      "outputs": [
        {
          "output_type": "execute_result",
          "data": {
            "text/plain": [
              "<matplotlib.image.AxesImage at 0x7fef6c1c6a10>"
            ]
          },
          "metadata": {},
          "execution_count": 5
        },
        {
          "output_type": "display_data",
          "data": {
            "text/plain": [
              "<Figure size 432x288 with 1 Axes>"
            ],
            "image/png": "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\n"
          },
          "metadata": {
            "needs_background": "light"
          }
        }
      ],
      "source": [
        "plt.imshow(X_train[19]) "
      ]
    },
    {
      "cell_type": "code",
      "execution_count": 6,
      "metadata": {
        "colab": {
          "base_uri": "https://localhost:8080/"
        },
        "id": "YmcYW6bXekby",
        "outputId": "7941c93a-315d-4292-c78c-f207edc5af89"
      },
      "outputs": [
        {
          "output_type": "execute_result",
          "data": {
            "text/plain": [
              "9"
            ]
          },
          "metadata": {},
          "execution_count": 6
        }
      ],
      "source": [
        "y_train[19]"
      ]
    },
    {
      "cell_type": "code",
      "source": [
        "X_train[19].shape"
      ],
      "metadata": {
        "colab": {
          "base_uri": "https://localhost:8080/"
        },
        "id": "58QTO1LpxeIx",
        "outputId": "ab7bc410-88e6-40de-f32b-cb50cb79a99d"
      },
      "execution_count": 8,
      "outputs": [
        {
          "output_type": "execute_result",
          "data": {
            "text/plain": [
              "(28, 28)"
            ]
          },
          "metadata": {},
          "execution_count": 8
        }
      ]
    },
    {
      "cell_type": "code",
      "execution_count": null,
      "metadata": {
        "colab": {
          "base_uri": "https://localhost:8080/"
        },
        "id": "xpXLlQyWROPJ",
        "outputId": "5f6a918f-5dc3-4156-82ee-77c9affcbf62"
      },
      "outputs": [
        {
          "output_type": "stream",
          "name": "stdout",
          "text": [
            "(60000, 28, 28, 1)\n",
            "(10000, 28, 28, 1)\n"
          ]
        }
      ],
      "source": [
        "X_train= X_train.reshape(60000,28,28,1)\n",
        "X_test= X_test.reshape(10000,28,28,1)\n",
        "print(X_train.shape)\n",
        "print(X_test.shape)"
      ]
    },
    {
      "cell_type": "code",
      "execution_count": null,
      "metadata": {
        "colab": {
          "base_uri": "https://localhost:8080/"
        },
        "id": "MJQ4cEyNWj_f",
        "outputId": "db646df9-074f-487d-be4e-3311073b0768"
      },
      "outputs": [
        {
          "output_type": "execute_result",
          "data": {
            "text/plain": [
              "<matplotlib.image.AxesImage at 0x7fdde2f48c90>"
            ]
          },
          "metadata": {},
          "execution_count": 7
        },
        {
          "output_type": "display_data",
          "data": {
            "text/plain": [
              "<Figure size 432x288 with 1 Axes>"
            ],
            "image/png": "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\n"
          },
          "metadata": {
            "needs_background": "light"
          }
        }
      ],
      "source": [
        "x = X_train[0].reshape(28,28)\n",
        "plt.imshow(x)"
      ]
    },
    {
      "cell_type": "markdown",
      "source": [
        "We will apply one-hot encoding to the label y, convert it into a vector of 1x10"
      ],
      "metadata": {
        "id": "ssEIEKHyyCjC"
      }
    },
    {
      "cell_type": "code",
      "execution_count": null,
      "metadata": {
        "colab": {
          "base_uri": "https://localhost:8080/"
        },
        "id": "Y-4Ee4ebBjCy",
        "outputId": "aa57599d-6807-492e-8a5e-84e6afa68e94"
      },
      "outputs": [
        {
          "output_type": "execute_result",
          "data": {
            "text/plain": [
              "array([0., 0., 0., 0., 0., 1., 0., 0., 0., 0.], dtype=float32)"
            ]
          },
          "metadata": {},
          "execution_count": 9
        }
      ],
      "source": [
        "#One-hot encode cho y (vì y đang ở dạng số) chuyển về dạng vector (nên dùng hàm categorical của keras) \n",
        "y_train= to_categorical(y_train)\n",
        "y_test= to_categorical(y_test)\n",
        "y_train[0]"
      ]
    },
    {
      "cell_type": "code",
      "execution_count": null,
      "metadata": {
        "id": "2nIMPTwlMQnm"
      },
      "outputs": [],
      "source": [
        "#Normalize the data\n",
        "#The value of gray image varies from 0 to 255\n",
        "X_train = X_train / 255.0\n",
        "X_test = X_test / 255.0"
      ]
    },
    {
      "cell_type": "markdown",
      "metadata": {
        "id": "dF_51eE-GAcL"
      },
      "source": [
        "# MODEL"
      ]
    },
    {
      "cell_type": "markdown",
      "source": [
        "Our model includes 15 layers, using `adam` optimizer and `categorical_crossentropy` loss function. Let's create and take a look at the newly created model summary."
      ],
      "metadata": {
        "id": "HRpPG1PAySPL"
      }
    },
    {
      "cell_type": "code",
      "execution_count": null,
      "metadata": {
        "id": "hldpJLNMJxvY"
      },
      "outputs": [],
      "source": [
        "def create_model():\n",
        "  model = Sequential() #tạo chuỗi\n",
        "  #add model layers\n",
        "  #lớp layer convolution đầu tiên\n",
        "  model.add(Conv2D(64,kernel_size=(3,3),activation='relu',input_shape=(28,28,1))) #có 64 lớp kernel, kernel_size là matrix 3x3, relu là hàm để mô hình ko linear, input shape 28x28 1 chiều\n",
        "  model.add(MaxPooling2D(pool_size=(2,2))) #maxpooling=2,2 -> giảm shape -> (28-3+1)/2\n",
        "\n",
        "  #lớp layer convolution 2\n",
        "  model.add(Conv2D(64, kernel_size=(3,3),activation='relu',input_shape=(28,28,1))) #có 64 lớp kernel, kernel_size là matrix 3x3, relu là hàm để mô hình ko linear, input shape 28x28 1 chiều\n",
        "  model.add(MaxPooling2D(pool_size=(2,2)))\n",
        "\n",
        "  #lớp layer convolution 3\n",
        "  model.add(Conv2D(64, kernel_size=(3,3),activation='relu',input_shape=(28,28,1))) #có 64 lớp kernel, kernel_size là matrix 3x3, relu là hàm để mô hình ko linear, input shape 28x28 1 chiều\n",
        "  model.add(MaxPooling2D(pool_size=(2,2)))\n",
        "\n",
        "  #lớp fully connected\n",
        "  model.add(Flatten()) #chuyển thành vecto 1D\n",
        "  model.add(Dense(64)) #hidden layer có 64 giá trị khi flatten ra thì số nodes trong vecto sẽ connect với 64 nodes trong layer này\n",
        "  model.add(Activation('relu'))\n",
        "\n",
        "  #lớp fully connected 2\n",
        "  model.add(Flatten()) \n",
        "  model.add(Dense(32)) \n",
        "  model.add(Activation('relu'))\n",
        "\n",
        "  #lớp fully connected\n",
        "  model.add(Flatten()) \n",
        "  model.add(Dense(10)) #vì cuối cùng output có 10 lable nên lớp layer cuối có 10 nodes\n",
        "  model.add(Activation('softmax')) #hàm tính xác suất của 10 lable\n",
        "\n",
        "  model.compile(optimizer=\"Adam\", loss=\"categorical_crossentropy\", metrics=[\"accuracy\"])\n",
        "\n",
        "  # There are several loss functions implemented in Keras, but the most commonly used are \n",
        "  # mean_squared_error, categorical_crossentropy, and binary_crossentropy.\n",
        "\n",
        "  return model\n",
        "\n",
        "model = create_model()"
      ]
    },
    {
      "cell_type": "code",
      "execution_count": null,
      "metadata": {
        "colab": {
          "base_uri": "https://localhost:8080/"
        },
        "id": "5fKlg3RVGlMK",
        "outputId": "8e6d2420-64dd-404e-a80f-55fd85239426"
      },
      "outputs": [
        {
          "name": "stdout",
          "output_type": "stream",
          "text": [
            "Model: \"sequential\"\n",
            "_________________________________________________________________\n",
            " Layer (type)                Output Shape              Param #   \n",
            "=================================================================\n",
            " conv2d (Conv2D)             (None, 26, 26, 64)        640       \n",
            "                                                                 \n",
            " max_pooling2d (MaxPooling2D  (None, 13, 13, 64)       0         \n",
            " )                                                               \n",
            "                                                                 \n",
            " conv2d_1 (Conv2D)           (None, 11, 11, 64)        36928     \n",
            "                                                                 \n",
            " max_pooling2d_1 (MaxPooling  (None, 5, 5, 64)         0         \n",
            " 2D)                                                             \n",
            "                                                                 \n",
            " conv2d_2 (Conv2D)           (None, 3, 3, 64)          36928     \n",
            "                                                                 \n",
            " max_pooling2d_2 (MaxPooling  (None, 1, 1, 64)         0         \n",
            " 2D)                                                             \n",
            "                                                                 \n",
            " flatten (Flatten)           (None, 64)                0         \n",
            "                                                                 \n",
            " dense (Dense)               (None, 64)                4160      \n",
            "                                                                 \n",
            " activation (Activation)     (None, 64)                0         \n",
            "                                                                 \n",
            " flatten_1 (Flatten)         (None, 64)                0         \n",
            "                                                                 \n",
            " dense_1 (Dense)             (None, 32)                2080      \n",
            "                                                                 \n",
            " activation_1 (Activation)   (None, 32)                0         \n",
            "                                                                 \n",
            " flatten_2 (Flatten)         (None, 32)                0         \n",
            "                                                                 \n",
            " dense_2 (Dense)             (None, 10)                330       \n",
            "                                                                 \n",
            " activation_2 (Activation)   (None, 10)                0         \n",
            "                                                                 \n",
            "=================================================================\n",
            "Total params: 81,066\n",
            "Trainable params: 81,066\n",
            "Non-trainable params: 0\n",
            "_________________________________________________________________\n"
          ]
        }
      ],
      "source": [
        "model.summary()"
      ]
    },
    {
      "cell_type": "markdown",
      "metadata": {
        "id": "_QLshgsfGliK"
      },
      "source": [
        "# TRAIN"
      ]
    },
    {
      "cell_type": "markdown",
      "source": [
        "Let's train the model with 5 epochs. "
      ],
      "metadata": {
        "id": "1ZZlaOKDy0OY"
      }
    },
    {
      "cell_type": "code",
      "execution_count": null,
      "metadata": {
        "colab": {
          "base_uri": "https://localhost:8080/"
        },
        "id": "ZQihlLZ3HF8z",
        "outputId": "c10b6eb2-bf54-4dad-867d-2b0131b9857a"
      },
      "outputs": [
        {
          "name": "stdout",
          "output_type": "stream",
          "text": [
            "Epoch 1/5\n",
            "1875/1875 [==============================] - 106s 55ms/step - loss: 0.2181 - accuracy: 0.9326 - val_loss: 0.0964 - val_accuracy: 0.9699\n",
            "Epoch 2/5\n",
            "1875/1875 [==============================] - 94s 50ms/step - loss: 0.0738 - accuracy: 0.9773 - val_loss: 0.0847 - val_accuracy: 0.9735\n",
            "Epoch 3/5\n",
            "1875/1875 [==============================] - 88s 47ms/step - loss: 0.0544 - accuracy: 0.9831 - val_loss: 0.0611 - val_accuracy: 0.9820\n",
            "Epoch 4/5\n",
            "1875/1875 [==============================] - 94s 50ms/step - loss: 0.0431 - accuracy: 0.9866 - val_loss: 0.0578 - val_accuracy: 0.9849\n",
            "Epoch 5/5\n",
            "1875/1875 [==============================] - 92s 49ms/step - loss: 0.0351 - accuracy: 0.9893 - val_loss: 0.0494 - val_accuracy: 0.9857\n"
          ]
        },
        {
          "data": {
            "text/plain": [
              "<keras.callbacks.History at 0x7fe0714ef050>"
            ]
          },
          "execution_count": 26,
          "metadata": {},
          "output_type": "execute_result"
        }
      ],
      "source": [
        "# Train model \n",
        "\n",
        "model.fit(X_train, y_train, validation_data=(X_test, y_test), epochs=5)"
      ]
    },
    {
      "cell_type": "code",
      "execution_count": null,
      "metadata": {
        "colab": {
          "base_uri": "https://localhost:8080/"
        },
        "id": "HJk4OSylJcTr",
        "outputId": "9538aa54-fcb1-4dba-fced-9376ea830e59"
      },
      "outputs": [
        {
          "name": "stdout",
          "output_type": "stream",
          "text": [
            "313/313 [==============================] - 4s 13ms/step - loss: 0.0494 - accuracy: 0.9857\n",
            "1875/1875 [==============================] - 26s 14ms/step - loss: 0.0243 - accuracy: 0.9925\n"
          ]
        }
      ],
      "source": [
        "# Lấy giá trị loss, accuracy trong tập test\n",
        "\n",
        "test_loss, test_acr = model.evaluate(X_test, y_test)\n",
        "train_loss, train_acr = model.evaluate(X_train, y_train)"
      ]
    },
    {
      "cell_type": "markdown",
      "source": [
        "The result is displayed as a vector, with elements are the probabilities respective to its position."
      ],
      "metadata": {
        "id": "K6iVMseKy-ZB"
      }
    },
    {
      "cell_type": "code",
      "execution_count": null,
      "metadata": {
        "colab": {
          "base_uri": "https://localhost:8080/"
        },
        "id": "83qlmU14JzCz",
        "outputId": "9014a5f8-d042-400d-85c1-cc50b679cb11"
      },
      "outputs": [
        {
          "name": "stdout",
          "output_type": "stream",
          "text": [
            "[[1.3366381e-05 1.2538140e-08 1.4151653e-05 3.4632969e-05 1.1228250e-05\n",
            "  9.9918956e-01 1.2790387e-04 6.5447750e-07 5.2563879e-05 5.5601948e-04]]\n"
          ]
        }
      ],
      "source": [
        "# Kiểm tra các xác suất của giá trị đầu trong tệp X_test\n",
        "\n",
        "predictions = model.predict(X_test[152].reshape(1,28,28,1))\n",
        "print(predictions)"
      ]
    },
    {
      "cell_type": "code",
      "execution_count": null,
      "metadata": {
        "colab": {
          "base_uri": "https://localhost:8080/"
        },
        "id": "WtW70s7tKDVq",
        "outputId": "124b447a-3262-44f0-cc0f-a01d2c9e06d1"
      },
      "outputs": [
        {
          "name": "stdout",
          "output_type": "stream",
          "text": [
            "[0. 0. 0. 0. 0. 0. 0. 1. 0. 0.]\n"
          ]
        }
      ],
      "source": [
        "print(y_test[0]) # 1 ở vị trí thứ 7 -> số 7"
      ]
    },
    {
      "cell_type": "markdown",
      "metadata": {
        "id": "z9Q5TROHbReO"
      },
      "source": [
        "# Load saved model"
      ]
    },
    {
      "cell_type": "code",
      "execution_count": 12,
      "metadata": {
        "colab": {
          "base_uri": "https://localhost:8080/"
        },
        "id": "VPs_2E9ae3Br",
        "outputId": "8dd0012c-c54e-4321-f93a-14b9bea77821"
      },
      "outputs": [
        {
          "output_type": "stream",
          "name": "stdout",
          "text": [
            "Mounted at /content/drive\n"
          ]
        }
      ],
      "source": [
        "from google.colab import drive\n",
        "drive.mount('/content/drive')"
      ]
    },
    {
      "cell_type": "code",
      "execution_count": null,
      "metadata": {
        "id": "fAn38lFSfXpZ",
        "colab": {
          "base_uri": "https://localhost:8080/",
          "height": 371
        },
        "outputId": "00a253ec-5dba-4d4d-b163-dec3dfe502da"
      },
      "outputs": [
        {
          "output_type": "error",
          "ename": "OSError",
          "evalue": "ignored",
          "traceback": [
            "\u001b[0;31m---------------------------------------------------------------------------\u001b[0m",
            "\u001b[0;31mOSError\u001b[0m                                   Traceback (most recent call last)",
            "\u001b[0;32m<ipython-input-13-0fbed8245b55>\u001b[0m in \u001b[0;36m<module>\u001b[0;34m()\u001b[0m\n\u001b[0;32m----> 1\u001b[0;31m \u001b[0mmodel\u001b[0m \u001b[0;34m=\u001b[0m \u001b[0mtf\u001b[0m\u001b[0;34m.\u001b[0m\u001b[0mkeras\u001b[0m\u001b[0;34m.\u001b[0m\u001b[0mmodels\u001b[0m\u001b[0;34m.\u001b[0m\u001b[0mload_model\u001b[0m\u001b[0;34m(\u001b[0m\u001b[0;34m'/content/drive/MyDrive/Colab Notebooks/vef final project/model_trained.model'\u001b[0m\u001b[0;34m)\u001b[0m\u001b[0;34m\u001b[0m\u001b[0;34m\u001b[0m\u001b[0m\n\u001b[0m",
            "\u001b[0;32m/usr/local/lib/python3.7/dist-packages/keras/utils/traceback_utils.py\u001b[0m in \u001b[0;36merror_handler\u001b[0;34m(*args, **kwargs)\u001b[0m\n\u001b[1;32m     65\u001b[0m     \u001b[0;32mexcept\u001b[0m \u001b[0mException\u001b[0m \u001b[0;32mas\u001b[0m \u001b[0me\u001b[0m\u001b[0;34m:\u001b[0m  \u001b[0;31m# pylint: disable=broad-except\u001b[0m\u001b[0;34m\u001b[0m\u001b[0;34m\u001b[0m\u001b[0m\n\u001b[1;32m     66\u001b[0m       \u001b[0mfiltered_tb\u001b[0m \u001b[0;34m=\u001b[0m \u001b[0m_process_traceback_frames\u001b[0m\u001b[0;34m(\u001b[0m\u001b[0me\u001b[0m\u001b[0;34m.\u001b[0m\u001b[0m__traceback__\u001b[0m\u001b[0;34m)\u001b[0m\u001b[0;34m\u001b[0m\u001b[0;34m\u001b[0m\u001b[0m\n\u001b[0;32m---> 67\u001b[0;31m       \u001b[0;32mraise\u001b[0m \u001b[0me\u001b[0m\u001b[0;34m.\u001b[0m\u001b[0mwith_traceback\u001b[0m\u001b[0;34m(\u001b[0m\u001b[0mfiltered_tb\u001b[0m\u001b[0;34m)\u001b[0m \u001b[0;32mfrom\u001b[0m \u001b[0;32mNone\u001b[0m\u001b[0;34m\u001b[0m\u001b[0;34m\u001b[0m\u001b[0m\n\u001b[0m\u001b[1;32m     68\u001b[0m     \u001b[0;32mfinally\u001b[0m\u001b[0;34m:\u001b[0m\u001b[0;34m\u001b[0m\u001b[0;34m\u001b[0m\u001b[0m\n\u001b[1;32m     69\u001b[0m       \u001b[0;32mdel\u001b[0m \u001b[0mfiltered_tb\u001b[0m\u001b[0;34m\u001b[0m\u001b[0;34m\u001b[0m\u001b[0m\n",
            "\u001b[0;32m/usr/local/lib/python3.7/dist-packages/keras/saving/save.py\u001b[0m in \u001b[0;36mload_model\u001b[0;34m(filepath, custom_objects, compile, options)\u001b[0m\n\u001b[1;32m    202\u001b[0m         \u001b[0;32mif\u001b[0m \u001b[0misinstance\u001b[0m\u001b[0;34m(\u001b[0m\u001b[0mfilepath_str\u001b[0m\u001b[0;34m,\u001b[0m \u001b[0mstr\u001b[0m\u001b[0;34m)\u001b[0m\u001b[0;34m:\u001b[0m\u001b[0;34m\u001b[0m\u001b[0;34m\u001b[0m\u001b[0m\n\u001b[1;32m    203\u001b[0m           \u001b[0;32mif\u001b[0m \u001b[0;32mnot\u001b[0m \u001b[0mtf\u001b[0m\u001b[0;34m.\u001b[0m\u001b[0mio\u001b[0m\u001b[0;34m.\u001b[0m\u001b[0mgfile\u001b[0m\u001b[0;34m.\u001b[0m\u001b[0mexists\u001b[0m\u001b[0;34m(\u001b[0m\u001b[0mfilepath_str\u001b[0m\u001b[0;34m)\u001b[0m\u001b[0;34m:\u001b[0m\u001b[0;34m\u001b[0m\u001b[0;34m\u001b[0m\u001b[0m\n\u001b[0;32m--> 204\u001b[0;31m             \u001b[0;32mraise\u001b[0m \u001b[0mIOError\u001b[0m\u001b[0;34m(\u001b[0m\u001b[0;34mf'No file or directory found at {filepath_str}'\u001b[0m\u001b[0;34m)\u001b[0m\u001b[0;34m\u001b[0m\u001b[0;34m\u001b[0m\u001b[0m\n\u001b[0m\u001b[1;32m    205\u001b[0m \u001b[0;34m\u001b[0m\u001b[0m\n\u001b[1;32m    206\u001b[0m           \u001b[0;32mif\u001b[0m \u001b[0mtf\u001b[0m\u001b[0;34m.\u001b[0m\u001b[0mio\u001b[0m\u001b[0;34m.\u001b[0m\u001b[0mgfile\u001b[0m\u001b[0;34m.\u001b[0m\u001b[0misdir\u001b[0m\u001b[0;34m(\u001b[0m\u001b[0mfilepath_str\u001b[0m\u001b[0;34m)\u001b[0m\u001b[0;34m:\u001b[0m\u001b[0;34m\u001b[0m\u001b[0;34m\u001b[0m\u001b[0m\n",
            "\u001b[0;31mOSError\u001b[0m: No file or directory found at /content/drive/MyDrive/Colab Notebooks/vef final project/model_trained.model"
          ]
        }
      ],
      "source": [
        "model = tf.keras.models.load_model('/content/drive/MyDrive/Colab Notebooks/VEF - Machine Learning/vef final project/model_trained.model')"
      ]
    },
    {
      "cell_type": "code",
      "execution_count": null,
      "metadata": {
        "colab": {
          "base_uri": "https://localhost:8080/"
        },
        "id": "GH0euz9yjGaS",
        "outputId": "37405dfa-69f3-4914-ce44-11d0bfb46337"
      },
      "outputs": [
        {
          "name": "stdout",
          "output_type": "stream",
          "text": [
            "313/313 [==============================] - 4s 12ms/step - loss: 0.0494 - accuracy: 0.9857\n",
            "1875/1875 [==============================] - 24s 13ms/step - loss: 0.0243 - accuracy: 0.9925\n"
          ]
        }
      ],
      "source": [
        "# Evaluate the model\n",
        "\n",
        "test_loss, test_acr = model.evaluate(X_test, y_test)\n",
        "train_loss, train_acr = model.evaluate(X_train, y_train)"
      ]
    },
    {
      "cell_type": "markdown",
      "metadata": {
        "id": "X42R5cIRqRU8"
      },
      "source": [
        "# A webapp to make online predict using `streamlit`\n"
      ]
    },
    {
      "cell_type": "markdown",
      "source": [
        "Users can draw several digits in a separated way (as long as it fits the blackbox). The app will first split them into respective numbers. Each image then will be carefully resized and handled to fit in the model as well as keep it real size. "
      ],
      "metadata": {
        "id": "HrL7J-dt1Jei"
      }
    },
    {
      "cell_type": "markdown",
      "source": [
        "![webapp.PNG](data:image/png;base64,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)"
      ],
      "metadata": {
        "id": "Ac1hfnj901_p"
      }
    },
    {
      "cell_type": "code",
      "execution_count": 13,
      "metadata": {
        "colab": {
          "base_uri": "https://localhost:8080/"
        },
        "id": "DCeXL9GY5sNh",
        "outputId": "779b5ffb-b347-4a3f-9446-76ed33979a34"
      },
      "outputs": [
        {
          "output_type": "stream",
          "name": "stdout",
          "text": [
            "Overwriting app.py\n"
          ]
        }
      ],
      "source": [
        "%%writefile app.py\n",
        "\n",
        "from tensorflow.keras.models import load_model\n",
        "import pandas as pd\n",
        "from PIL import Image, ImageOps\n",
        "import streamlit as st\n",
        "from streamlit_drawable_canvas import st_canvas\n",
        "import matplotlib.pyplot as plt\n",
        "import numpy as np\n",
        "import torch\n",
        "import cv2\n",
        "import torchvision\n",
        "from datetime import datetime\n",
        "import time\n",
        "\n",
        "@st.cache(allow_output_mutation=True)\n",
        "def get_model(model_path='/content/drive/MyDrive/Colab Notebooks/VEF - Machine Learning/vef final project/model_trained.model', compile=False):\n",
        "    model = load_model(model_path)\n",
        "    return model\n",
        "\n",
        "\n",
        "def define_row_to_select_img(img_array):\n",
        "  data = []\n",
        "  for row_ in img_array:\n",
        "    if (row_ == 0).all():\n",
        "      data.append(0)\n",
        "    else:\n",
        "      data.append(1)\n",
        "  return data\n",
        "\n",
        "def get_index(array):\n",
        "  result_array = []\n",
        "  tmp = {}\n",
        "  status = False\n",
        "  for i in range(len(array)):\n",
        "    row = array[i]\n",
        "\n",
        "    if 'start' in tmp and 'end' in tmp:\n",
        "      result_array.append(tmp)\n",
        "      tmp = {}\n",
        "\n",
        "    if status == False and row == 1:\n",
        "      tmp['start'] = i\n",
        "    elif status == True and row == 0:\n",
        "      tmp['end'] = i + 1\n",
        "    \n",
        "    if row == 1:# row is not null\n",
        "      status = True\n",
        "    else: \n",
        "      status = False\n",
        "    \n",
        "  return result_array\n",
        "\n",
        "def split_img(img_modified):\n",
        "  array = define_row_to_select_img(img_modified)\n",
        "  dict_ = get_index(array)\n",
        "  for d in dict_:\n",
        "    yield img_modified[d['start']:d['end']]\n",
        "\n",
        "def resize_img(img_array):\n",
        "  for i in img_array:\n",
        "    i = np.rot90(i,1)\n",
        "    x, y = i.shape\n",
        "    print(x, y)\n",
        "    if (x - y)%2 == 0:\n",
        "      shape_1 = 200, int(((x-y)/2))\n",
        "      shape_2 = shape_1\n",
        "    else:\n",
        "      shape_1 = 200, int(((x-y)+1)/2)\n",
        "      shape_2 = 200, int(((x-y)-1)/2)\n",
        "    i = np.c_[np.zeros((shape_1)), i, np.zeros((shape_2))]\n",
        "    yield i\n",
        "\n",
        "def main():\n",
        "  Network = get_model()\n",
        "  # Specify canvas parameters in application\n",
        "  # drawing_mode = st.sidebar.selectbox(\n",
        "  #     \"Drawing tool:\", (\"point\", \"freedraw\", \"line\", \"rect\", \"circle\", \"transform\")\n",
        "  # )\n",
        "  drawing_mode = 'freedraw'\n",
        "  stroke_width = st.sidebar.slider(\"Stroke width: \", 1, 25, 13)\n",
        "  # stroke_width = 9\n",
        "  # if drawing_mode == 'point':\n",
        "  #     point_display_radius = st.sidebar.slider(\"Point display radius: \", 1, 25, 3)\n",
        "  # stroke_color = st.sidebar.color_picker(\"Stroke color hex: \")\n",
        "  stroke_color = '#ffffff'\n",
        "  # bg_color = st.sidebar.color_picker(\"Background color hex: \", \"#eee\")\n",
        "  bg_color = '#000000'\n",
        "  # bg_image = st.sidebar.file_uploader(\"Background image:\", type=[\"png\", \"jpg\"])\n",
        "\n",
        "  realtime_update = st.sidebar.checkbox(\"Update in realtime\", True)\n",
        "  \n",
        "  st.write('# VEF FINAL PROJECT')\n",
        "  st.write('## Digit Regconization with a `CNN` model')\n",
        "  st.write('###  Draw a digit in 0-9')\n",
        "  st.write('')\n",
        "  # Create a canvas component\n",
        "  canvas_result = st_canvas(\n",
        "      fill_color=\"rgba(255, 165, 0, 0.3)\",  # Fixed fill color with some opacity\n",
        "      stroke_width=stroke_width,\n",
        "      stroke_color=stroke_color,\n",
        "      background_color=bg_color,\n",
        "      # background_image=Image.open(bg_image) if bg_image else None,\n",
        "      update_streamlit=realtime_update,\n",
        "      height=200,\n",
        "      width=700,\n",
        "      drawing_mode=drawing_mode,\n",
        "      # point_display_radius=point_display_radius if drawing_mode == 'point' else 0,\n",
        "      # key=\"canvas\",\n",
        "  )\n",
        "\n",
        "  # time.sleep(2)\n",
        "  \n",
        "  button_hit = st.button('Predict!')\n",
        "  # if canvas_result.json_data is not None:\n",
        "  #   st.write('Yes')\n",
        "  if button_hit:\n",
        "    # Do something interesting with the image data and paths\n",
        "    if canvas_result.image_data is not None:\n",
        "        print(type(canvas_result.image_data))\n",
        "        \n",
        "        # Get the numpy array (4-channel RGBA 100,100,4)\n",
        "        input_numpy_array = np.array(canvas_result.image_data)\n",
        "\n",
        "        \n",
        "        \n",
        "        # Get the RGBA PIL image\n",
        "        input_image = Image.fromarray(input_numpy_array.astype('uint8'), 'RGBA')\n",
        "        input_image.save('user_input.png')\n",
        "        \n",
        "        # Convert it to grayscale\n",
        "        input_image_gs = input_image.convert('L') # type PIL\n",
        "        \n",
        "        input_image_gs_np = np.asarray(input_image_gs.getdata()).reshape(200,700) # type NP Array\n",
        "\n",
        "        img1 = Image.open('user_input.png')\n",
        "        img1 = ImageOps.grayscale(img1) # PIL\n",
        "        # Convert image to array\n",
        "        input_numpy_array = np.array(img1)\n",
        "        # Rotate image\n",
        "        img_modified = np.rot90(input_numpy_array, 3)\n",
        "\n",
        "        img_array = split_img(img_modified)\n",
        "        img_array = resize_img(img_array)\n",
        "\n",
        "        predict_numbers = ''\n",
        "        for input_image_gs in img_array:\n",
        "          \n",
        "          # st.write('### Image as a grayscale Numpy array')\n",
        "          # st.write(input_image_gs_np.shape)\n",
        "          print(type(input_image_gs))\n",
        "          # # Create a temporary image for opencv to read it\n",
        "          # input_image_gs.save('temp_for_cv2.jpg')\n",
        "          image = Image.fromarray(np.uint8(input_image_gs)) #convert('RGB')\n",
        "          # Start creating a bounding box\n",
        "          image = np.array(image)\n",
        "          height, width = image.shape\n",
        "          x,y,w,h = cv2.boundingRect(image)\n",
        "\n",
        "\n",
        "          # Create new blank image and shift ROI to new coordinates\n",
        "          ROI = image[y:y+h, x:x+w]\n",
        "          mask = np.zeros([ROI.shape[0]+10,ROI.shape[1]+10])\n",
        "          width, height = mask.shape\n",
        "      #     print(ROI.shape)\n",
        "      #     print(mask.shape)\n",
        "          x = width//2 - ROI.shape[0]//2 \n",
        "          y = height//2 - ROI.shape[1]//2 \n",
        "      #     print(x,y)\n",
        "          mask[y:y+h, x:x+w] = ROI\n",
        "      #     print(mask)\n",
        "          # Check if centering/masking was successful\n",
        "      #     plt.imshow(mask, cmap='viridis') \n",
        "          output_image = Image.fromarray(mask) # mask has values in [0-255] as expected\n",
        "          # Now we need to resize, but it causes problems with default arguments as it changes the range of pixel values to be negative or positive\n",
        "          # compressed_output_image = output_image.resize((22,22))\n",
        "          # Therefore, we use the following:\n",
        "          compressed_output_image = output_image.resize((22,22), Image.BILINEAR) # PIL.Image.NEAREST or PIL.Image.BILINEAR also performs good\n",
        "\n",
        "          convert_tensor = torchvision.transforms.ToTensor()\n",
        "          tensor_image = convert_tensor(compressed_output_image)\n",
        "          # Another problem we face is that in the above ToTensor() command, we should have gotten a normalized tensor with pixel values in [0,1]\n",
        "          # But somehow it doesn't happen. Therefore, we need to normalize manually\n",
        "          tensor_image = tensor_image/255.\n",
        "          # Padding\n",
        "          tensor_image = torch.nn.functional.pad(tensor_image, (3,3,3,3), \"constant\", 0)\n",
        "          # Normalization shoudl be done after padding i guess\n",
        "          convert_tensor = torchvision.transforms.Normalize((0.1307), (0.3081)) # Mean and std of MNIST\n",
        "          tensor_image = convert_tensor(tensor_image)\n",
        "          # st.write(tensor_image.shape) \n",
        "          \n",
        "          im = Image.fromarray(tensor_image.detach().cpu().numpy().reshape(28,28), mode='L')\n",
        "\n",
        "          # export_time = datetime.now()\n",
        "          im.save(\"processed_tensor.png\", \"PNG\")\n",
        "          # So we use matplotlib to save it instead\n",
        "          plt.imsave(\"processed_tensor.png\",tensor_image.detach().cpu().numpy().reshape(28,28), cmap='gray')\n",
        "\n",
        "          st.write('### Processed image')\n",
        "          st.image('processed_tensor.png')\n",
        "          im = cv2.imread('processed_tensor.png', 0)\n",
        "          # print('x2', type(im2))\n",
        "\n",
        "          im = np.array(im).reshape(28,28,1)\n",
        "\n",
        "        #   device='cpu'\n",
        "        #  ### Compute the predictions\n",
        "        #   with torch.no_grad():\n",
        "                # input image for network should be (1,1,28,28)\n",
        "          predict = Network(im.reshape(1,28,28,1))\n",
        "\n",
        "          # predict = model.predict(image.reshape(1,28,28,1))\n",
        "          predict_number = np.argmax(predict)\n",
        "          predict_numbers += f' {predict_number} ' \n",
        "    \n",
        "          # # Need to apply Softmax here to get probabilities\n",
        "          # m = torch.nn.Softmax(dim=1)\n",
        "          # predict = m(predict)\n",
        "          # print('x4',predict)\n",
        "          # certainty, output = torch.max(output0[0], 0)\n",
        "          # certainty = certainty.clone().cpu().item()\n",
        "          # output = output.clone().cpu().item()\n",
        "          # certainty1, output1 = torch.topk(output0[0],3)\n",
        "          # certainty1 = certainty1.clone().cpu()#.item()\n",
        "          # output1 = output1.clone().cpu()#.item()\n",
        "      #     print(certainty)\n",
        "\n",
        "        st.write('### Prediction') \n",
        "        st.write('### '+ str(predict_numbers))\n",
        "\n",
        "          # st.write('## Breakdown of the prediction process:') \n",
        "\n",
        "          # st.write('### Image being used as input')\n",
        "          # st.image(canvas_result.image_data)\n",
        "\n",
        "          # st.write('### Image as a grayscale Numpy array')\n",
        "          # st.write(input_image_gs_np)\n",
        "\n",
        "          # st.write('### Processing steps:')\n",
        "          # st.write('1. Find the bounding box of the digit blob and use that.')\n",
        "          # st.write('2. Convert it to size 22x22.')\n",
        "          # st.write('3. Pad the image with 3 pixels on all the sides to get a 28x28 image.')\n",
        "          # st.write('4. Normalize the image to have pixel values between 0 and 1.')\n",
        "          # st.write('5. Standardize the image using the mean and standard deviation of the MNIST training dataset.')\n",
        "\n",
        "          # st.write('### Processed image')\n",
        "          # st.image('processed_tensor.png')\n",
        "\n",
        "\n",
        "\n",
        "          # st.write('### Prediction') \n",
        "          # st.write(str(predict_number))\n",
        "          # st.write('### Certainty')    \n",
        "          # st.write(str(certainty1[0].item()*100) +'%')\n",
        "          # st.write('### Top 3 candidates')\n",
        "          # st.write(str(output1))\n",
        "          # st.write('### Certainties')    \n",
        "          # st.write(str(certainty1*100))\n",
        "     \n",
        "main()"
      ]
    },
    {
      "cell_type": "markdown",
      "metadata": {
        "id": "l9UASdHTwSmI"
      },
      "source": [
        "# Run streamlit by local tunnel"
      ]
    },
    {
      "cell_type": "code",
      "execution_count": null,
      "metadata": {
        "colab": {
          "base_uri": "https://localhost:8080/"
        },
        "id": "PZIlFpI5ihFd",
        "outputId": "30432e16-7a18-499f-c8cb-ac6b5756f435"
      },
      "outputs": [
        {
          "output_type": "stream",
          "name": "stdout",
          "text": [
            "2022-06-16 14:03:56.181 INFO    numexpr.utils: NumExpr defaulting to 2 threads.\n",
            "\u001b[K\u001b[?25hnpx: installed 22 in 2.749s\n",
            "your url is: https://big-taxes-start-35-234-3-96.loca.lt\n",
            "\u001b[0m\n",
            "\u001b[34m\u001b[1m  You can now view your Streamlit app in your browser.\u001b[0m\n",
            "\u001b[0m\n",
            "\u001b[34m  Network URL: \u001b[0m\u001b[1mhttp://172.28.0.2:8501\u001b[0m\n",
            "\u001b[34m  External URL: \u001b[0m\u001b[1mhttp://35.234.3.96:8501\u001b[0m\n",
            "\u001b[0m\n",
            "2022-06-16 14:04:34.752121: E tensorflow/stream_executor/cuda/cuda_driver.cc:271] failed call to cuInit: CUDA_ERROR_NO_DEVICE: no CUDA-capable device is detected\n",
            "<class 'numpy.ndarray'>\n",
            "200 55\n",
            "<class 'numpy.ndarray'>\n",
            "200 116\n",
            "<class 'numpy.ndarray'>\n",
            "200 140\n",
            "<class 'numpy.ndarray'>\n",
            "<class 'numpy.ndarray'>\n",
            "200 113\n",
            "<class 'numpy.ndarray'>\n",
            "200 149\n",
            "<class 'numpy.ndarray'>\n",
            "200 121\n",
            "<class 'numpy.ndarray'>\n"
          ]
        }
      ],
      "source": [
        "!streamlit run app.py & npx localtunnel --port 8501"
      ]
    },
    {
      "cell_type": "code",
      "execution_count": null,
      "metadata": {
        "id": "Zprpz8gybHuG"
      },
      "outputs": [],
      "source": [
        ""
      ]
    }
  ],
  "metadata": {
    "colab": {
      "collapsed_sections": [
        "j1ChTkfsF9KL",
        "dF_51eE-GAcL",
        "_QLshgsfGliK",
        "z9Q5TROHbReO",
        "X42R5cIRqRU8",
        "l9UASdHTwSmI"
      ],
      "name": "Final project.ipynb",
      "provenance": []
    },
    "kernelspec": {
      "display_name": "Python 3",
      "name": "python3"
    },
    "language_info": {
      "name": "python"
    }
  },
  "nbformat": 4,
  "nbformat_minor": 0
}
